{
 "cells": [
  {
   "cell_type": "code",
   "execution_count": 1,
   "metadata": {},
   "outputs": [],
   "source": [
    "import os\n",
    "import subprocess\n",
    "import wave\n",
    "import whisper\n",
    "from googletrans import Translator\n",
    "import json\n",
    "# from gtts import gTTS\n",
    "import pyttsx3"
   ]
  },
  {
   "cell_type": "markdown",
   "metadata": {},
   "source": [
    "<h3>Convert Video into Audio</h3>"
   ]
  },
  {
   "cell_type": "code",
   "execution_count": 2,
   "metadata": {},
   "outputs": [
    {
     "name": "stdout",
     "output_type": "stream",
     "text": [
      "ffmpeg -i /Users/dchavre/Documents/translator/media-in/IMG_2068.mp4 -ab 160k -ac 2 -ar 44100 -vn /Users/dchavre/Documents/translator/audio-en/IMG_2068.wav\n"
     ]
    },
    {
     "name": "stderr",
     "output_type": "stream",
     "text": [
      "ffmpeg version 6.1.1 Copyright (c) 2000-2023 the FFmpeg developers\n",
      "  built with Apple clang version 15.0.0 (clang-1500.1.0.2.5)\n",
      "  configuration: --prefix=/opt/homebrew/Cellar/ffmpeg/6.1.1_2 --enable-shared --enable-pthreads --enable-version3 --cc=clang --host-cflags= --host-ldflags='-Wl,-ld_classic' --enable-ffplay --enable-gnutls --enable-gpl --enable-libaom --enable-libaribb24 --enable-libbluray --enable-libdav1d --enable-libharfbuzz --enable-libjxl --enable-libmp3lame --enable-libopus --enable-librav1e --enable-librist --enable-librubberband --enable-libsnappy --enable-libsrt --enable-libsvtav1 --enable-libtesseract --enable-libtheora --enable-libvidstab --enable-libvmaf --enable-libvorbis --enable-libvpx --enable-libwebp --enable-libx264 --enable-libx265 --enable-libxml2 --enable-libxvid --enable-lzma --enable-libfontconfig --enable-libfreetype --enable-frei0r --enable-libass --enable-libopencore-amrnb --enable-libopencore-amrwb --enable-libopenjpeg --enable-libspeex --enable-libsoxr --enable-libzmq --enable-libzimg --disable-libjack --disable-indev=jack --enable-videotoolbox --enable-audiotoolbox --enable-neon\n",
      "  libavutil      58. 29.100 / 58. 29.100\n",
      "  libavcodec     60. 31.102 / 60. 31.102\n",
      "  libavformat    60. 16.100 / 60. 16.100\n",
      "  libavdevice    60.  3.100 / 60.  3.100\n",
      "  libavfilter     9. 12.100 /  9. 12.100\n",
      "  libswscale      7.  5.100 /  7.  5.100\n",
      "  libswresample   4. 12.100 /  4. 12.100\n",
      "  libpostproc    57.  3.100 / 57.  3.100\n",
      "Input #0, mov,mp4,m4a,3gp,3g2,mj2, from '/Users/dchavre/Documents/translator/media-in/IMG_2068.mp4':\n",
      "  Metadata:\n",
      "    major_brand     : isom\n",
      "    minor_version   : 512\n",
      "    compatible_brands: isomiso2avc1mp41\n",
      "    encoder         : Lavf59.16.100\n",
      "  Duration: 00:00:11.50, start: 0.000000, bitrate: 10046 kb/s\n",
      "  Stream #0:0[0x1](und): Audio: aac (LC) (mp4a / 0x6134706D), 48000 Hz, stereo, fltp, 260 kb/s (default)\n",
      "    Metadata:\n",
      "      handler_name    : SoundHandler\n",
      "      vendor_id       : [0][0][0][0]\n",
      "  Stream #0:1[0x2](und): Video: h264 (High) (avc1 / 0x31637661), yuv420p(tv, bt709, progressive), 1080x1920 [SAR 1:1 DAR 9:16], 9803 kb/s, 30 fps, 30 tbr, 15360 tbn (default)\n",
      "    Metadata:\n",
      "      handler_name    : VideoHandler\n",
      "      vendor_id       : [0][0][0][0]\n",
      "Stream mapping:\n",
      "  Stream #0:0 -> #0:0 (aac (native) -> pcm_s16le (native))\n",
      "Press [q] to stop, [?] for help\n",
      "Output #0, wav, to '/Users/dchavre/Documents/translator/audio-en/IMG_2068.wav':\n",
      "  Metadata:\n",
      "    major_brand     : isom\n",
      "    minor_version   : 512\n",
      "    compatible_brands: isomiso2avc1mp41\n",
      "    ISFT            : Lavf60.16.100\n",
      "  Stream #0:0(und): Audio: pcm_s16le ([1][0][0][0] / 0x0001), 44100 Hz, stereo, s16, 1411 kb/s (default)\n",
      "    Metadata:\n",
      "      handler_name    : SoundHandler\n",
      "      vendor_id       : [0][0][0][0]\n",
      "      encoder         : Lavc60.31.102 pcm_s16le\n",
      "[out#0/wav @ 0x1361053d0] video:0kB audio:1981kB subtitle:0kB other streams:0kB global headers:0kB muxing overhead: 0.003845%\n",
      "size=    1981kB time=00:00:11.49 bitrate=1411.3kbits/s speed= 261x    \n"
     ]
    }
   ],
   "source": [
    "path_in = '/Users/dchavre/Documents/translator/media-in/'\n",
    "path_out = '/Users/dchavre/Documents/translator/media-out/'\n",
    "path_en = '/Users/dchavre/Documents/translator/audio-en/'\n",
    "path_audio = '/Users/dchavre/Documents/translator/audio-out/'\n",
    "\n",
    "files_in = os.listdir(path_in)\n",
    "\n",
    "for file in files_in:\n",
    "    file_name = os.path.splitext(f'{path_en + file}')[0] + '.wav'\n",
    "    cmd_extract_audio = f\"ffmpeg -i {path_in + file} -ab 160k -ac 2 -ar 44100 -vn {file_name}\"\n",
    "    print(cmd_extract_audio)\n",
    "    subprocess.call(cmd_extract_audio, shell=True)"
   ]
  },
  {
   "cell_type": "markdown",
   "metadata": {},
   "source": [
    "<h3>Speech-to-text & Translation</h3>\n",
    "\n",
    "Link to languages for gTTS:\n",
    "https://gtts.readthedocs.io/en/latest/module.html#:~:text=Local%20accent-,Language%20code,-(lang)\n",
    "\n",
    "<h5></h5>\n",
    "\n",
    "Link to languages for translator:\n",
    "https://py-googletrans.readthedocs.io/en/latest/#quickstart:~:text=%3E%3E%3E%20tk%0A950629.577246-,googletrans.LANGUAGES,-%C2%B6"
   ]
  },
  {
   "cell_type": "code",
   "execution_count": 3,
   "metadata": {},
   "outputs": [
    {
     "name": "stderr",
     "output_type": "stream",
     "text": [
      "/Users/dchavre/anaconda3/envs/translator/lib/python3.11/site-packages/whisper/transcribe.py:115: UserWarning: FP16 is not supported on CPU; using FP32 instead\n",
      "  warnings.warn(\"FP16 is not supported on CPU; using FP32 instead\")\n"
     ]
    },
    {
     "name": "stdout",
     "output_type": "stream",
     "text": [
      " Hello there. My name is Darsh. It is good to make your acquaintances. Thank you. Goodbye.\n",
      "Translated(src=en, dest=fr, text=Bonjour. Je m'appelle Darsh. C'est bien de faire des connaissances. Merci. Au revoir., pronunciation=[[]], extra_data=\"{'translat...\")\n"
     ]
    }
   ],
   "source": [
    "files_audio = os.listdir(path_en)\n",
    "file_finished_audio = os.listdir('/Users/dchavre/Documents/translator/audio-out/')\n",
    "\n",
    "\n",
    "model = whisper.load_model('base')\n",
    "translator = Translator()\n",
    "\n",
    "language = input('''\n",
    "                 Options:\n",
    "                 en | us (English)\n",
    "                 fr | fr (French)\n",
    "                 zh-CN (Chinese)\n",
    "                 pt | pt (Portuguese)\n",
    "                 es | us (Spanish)\n",
    "                 LANGUAGE: \n",
    "                 ''')\n",
    "\n",
    "for file in files_audio:\n",
    "    result = model.transcribe(path_en + file)\n",
    "    translated = translator.translate(result['text'], dest=language)\n",
    "    print(result['text'])\n",
    "    print(translated)\n",
    "    file_name = os.path.splitext(f'{path_audio + file}')[0] + '_' + language +'.mp3'\n",
    "    # tts = gTTS(translated.text, lang=language)\n",
    "    # tts.save(file_name)\n",
    "print(file_name)\n",
    "engine = pyttsx3.init()\n",
    "engine.setProperty('lang', language)\n",
    "engine.save_to_file(translated.text, file_name)\n",
    "engine.runAndWait()"
   ]
  },
  {
   "cell_type": "markdown",
   "metadata": {},
   "source": [
    "<h3>Merging Audio & Video</h3>"
   ]
  },
  {
   "cell_type": "code",
   "execution_count": null,
   "metadata": {},
   "outputs": [
    {
     "name": "stderr",
     "output_type": "stream",
     "text": [
      "ffmpeg version 6.1.1 Copyright (c) 2000-2023 the FFmpeg developers\n",
      "  built with Apple clang version 15.0.0 (clang-1500.1.0.2.5)\n",
      "  configuration: --prefix=/opt/homebrew/Cellar/ffmpeg/6.1.1_2 --enable-shared --enable-pthreads --enable-version3 --cc=clang --host-cflags= --host-ldflags='-Wl,-ld_classic' --enable-ffplay --enable-gnutls --enable-gpl --enable-libaom --enable-libaribb24 --enable-libbluray --enable-libdav1d --enable-libharfbuzz --enable-libjxl --enable-libmp3lame --enable-libopus --enable-librav1e --enable-librist --enable-librubberband --enable-libsnappy --enable-libsrt --enable-libsvtav1 --enable-libtesseract --enable-libtheora --enable-libvidstab --enable-libvmaf --enable-libvorbis --enable-libvpx --enable-libwebp --enable-libx264 --enable-libx265 --enable-libxml2 --enable-libxvid --enable-lzma --enable-libfontconfig --enable-libfreetype --enable-frei0r --enable-libass --enable-libopencore-amrnb --enable-libopencore-amrwb --enable-libopenjpeg --enable-libspeex --enable-libsoxr --enable-libzmq --enable-libzimg --disable-libjack --disable-indev=jack --enable-videotoolbox --enable-audiotoolbox --enable-neon\n",
      "  libavutil      58. 29.100 / 58. 29.100\n",
      "  libavcodec     60. 31.102 / 60. 31.102\n",
      "  libavformat    60. 16.100 / 60. 16.100\n",
      "  libavdevice    60.  3.100 / 60.  3.100\n",
      "  libavfilter     9. 12.100 /  9. 12.100\n",
      "  libswscale      7.  5.100 /  7.  5.100\n",
      "  libswresample   4. 12.100 /  4. 12.100\n",
      "  libpostproc    57.  3.100 / 57.  3.100\n",
      "Input #0, mov,mp4,m4a,3gp,3g2,mj2, from '/Users/dchavre/Documents/translator/media-in/IMG_2068.mp4':\n",
      "  Metadata:\n",
      "    major_brand     : isom\n",
      "    minor_version   : 512\n",
      "    compatible_brands: isomiso2avc1mp41\n",
      "    encoder         : Lavf59.16.100\n",
      "  Duration: 00:00:11.50, start: 0.000000, bitrate: 10046 kb/s\n",
      "  Stream #0:0[0x1](und): Audio: aac (LC) (mp4a / 0x6134706D), 48000 Hz, stereo, fltp, 260 kb/s (default)\n",
      "    Metadata:\n",
      "      handler_name    : SoundHandler\n",
      "      vendor_id       : [0][0][0][0]\n",
      "  Stream #0:1[0x2](und): Video: h264 (High) (avc1 / 0x31637661), yuv420p(tv, bt709, progressive), 1080x1920 [SAR 1:1 DAR 9:16], 9803 kb/s, 30 fps, 30 tbr, 15360 tbn (default)\n",
      "    Metadata:\n",
      "      handler_name    : VideoHandler\n",
      "      vendor_id       : [0][0][0][0]\n",
      "[mp3 @ 0x11d623150] Estimating duration from bitrate, this may be inaccurate\n",
      "Input #1, mp3, from '/Users/dchavre/Documents/translator/audio-out/IMG_2068_zh-CN.mp3':\n",
      "  Duration: 00:00:06.98, start: 0.000000, bitrate: 32 kb/s\n",
      "  Stream #1:0: Audio: mp3, 24000 Hz, mono, fltp, 32 kb/s\n",
      "Stream mapping:\n",
      "  Stream #0:1 -> #0:0 (copy)\n",
      "  Stream #1:0 -> #0:1 (mp3 (mp3float) -> aac (native))\n",
      "Press [q] to stop, [?] for help\n",
      "Output #0, mp4, to '/Users/dchavre/Documents/translator/media-out/IMG_2068_zh-CN.mp4':\n",
      "  Metadata:\n",
      "    major_brand     : isom\n",
      "    minor_version   : 512\n",
      "    compatible_brands: isomiso2avc1mp41\n",
      "    encoder         : Lavf60.16.100\n",
      "  Stream #0:0(und): Video: h264 (High) (avc1 / 0x31637661), yuv420p(tv, bt709, progressive), 1080x1920 [SAR 1:1 DAR 9:16], q=2-31, 9803 kb/s, 30 fps, 30 tbr, 15360 tbn (default)\n",
      "    Metadata:\n",
      "      handler_name    : VideoHandler\n",
      "      vendor_id       : [0][0][0][0]\n",
      "  Stream #0:1: Audio: aac (LC) (mp4a / 0x6134706D), 24000 Hz, mono, fltp, 69 kb/s\n",
      "    Metadata:\n",
      "      encoder         : Lavc60.31.102 aac\n",
      "[out#0/mp4 @ 0x11d714150] video:8266kB audio:60kB subtitle:0kB other streams:0kB global headers:0kB muxing overhead: 0.072954%\n",
      "size=    8332kB time=00:00:11.33 bitrate=6022.7kbits/s speed= 188x    \n",
      "[aac @ 0x11d719e40] Qavg: 10870.491\n"
     ]
    }
   ],
   "source": [
    "files = os.listdir(path_in)\n",
    "\n",
    "def combine(inp_vid, inp_aud, out_vid):\n",
    "    command = [\n",
    "        'ffmpeg',\n",
    "        '-i', inp_vid,\n",
    "        '-i', inp_aud,\n",
    "        '-map', '0:v',    # Use the video stream from the first input\n",
    "        '-map', '1:a',    # Use the audio stream from the second input\n",
    "        '-shortest',      # Use the shortest duration between video and audio\n",
    "        '-c:v', 'copy',\n",
    "        '-c:a', 'aac',\n",
    "        out_vid\n",
    "    ]\n",
    "\n",
    "    subprocess.run(command)\n",
    "\n",
    "for file in files:\n",
    "    file_name = os.path.splitext(f'{path_out + file}')[0] + '_' + language +'.mp4'\n",
    "    audio = os.path.splitext(f'{path_audio + file}')[0] + '_' + language +'.mp3'\n",
    "    video_in = os.path.splitext(f'{path_in + file}')[0] + '.mp4'\n",
    "    combine(video_in, audio, file_name)"
   ]
  }
 ],
 "metadata": {
  "kernelspec": {
   "display_name": "translator",
   "language": "python",
   "name": "python3"
  },
  "language_info": {
   "codemirror_mode": {
    "name": "ipython",
    "version": 3
   },
   "file_extension": ".py",
   "mimetype": "text/x-python",
   "name": "python",
   "nbconvert_exporter": "python",
   "pygments_lexer": "ipython3",
   "version": "3.11.7"
  }
 },
 "nbformat": 4,
 "nbformat_minor": 2
}
